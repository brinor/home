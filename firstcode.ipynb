{
  "nbformat": 4,
  "nbformat_minor": 0,
  "metadata": {
    "colab": {
      "name": "firstcode.ipynb",
      "provenance": [],
      "collapsed_sections": [],
      "authorship_tag": "ABX9TyN/my5HEHDNoqWGkxlV5ZeO",
      "include_colab_link": true
    },
    "kernelspec": {
      "name": "python3",
      "display_name": "Python 3"
    },
    "language_info": {
      "name": "python"
    }
  },
  "cells": [
    {
      "cell_type": "markdown",
      "metadata": {
        "id": "view-in-github",
        "colab_type": "text"
      },
      "source": [
        "<a href=\"https://colab.research.google.com/github/brinor/home/blob/master/firstcode.ipynb\" target=\"_parent\"><img src=\"https://colab.research.google.com/assets/colab-badge.svg\" alt=\"Open In Colab\"/></a>"
      ]
    },
    {
      "cell_type": "code",
      "execution_count": 25,
      "metadata": {
        "colab": {
          "base_uri": "https://localhost:8080/"
        },
        "id": "Hicqm5Yp2X_b",
        "outputId": "5fdd7375-e6c0-4a8c-fdb8-27d15b7c2bea"
      },
      "outputs": [
        {
          "output_type": "stream",
          "name": "stdout",
          "text": [
            "Start\n",
            "1\n",
            "22\n",
            "333\n",
            "4444\n",
            "55555\n",
            "666666\n",
            "7777777\n",
            "88888888\n",
            "999999999\n"
          ]
        }
      ],
      "source": [
        "A=1\n",
        "print(\"Start\")\n",
        "for i in range(1,10):\n",
        "  for j in range(0, A):\n",
        "    print(A, end=\"\")\n",
        "  A=A+1\n",
        "  print()\n"
      ]
    }
  ]
}